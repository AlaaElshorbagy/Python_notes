{
  "cells": [
    {
      "cell_type": "markdown",
      "metadata": {
        "id": "view-in-github",
        "colab_type": "text"
      },
      "source": [
        "<a href=\"https://colab.research.google.com/github/AlaaElshorbagy/Python_notes/blob/main/Mynotes/python_interview_questions.ipynb\" target=\"_parent\"><img src=\"https://colab.research.google.com/assets/colab-badge.svg\" alt=\"Open In Colab\"/></a>"
      ]
    },
    {
      "cell_type": "markdown",
      "source": [
        "# Easy"
      ],
      "metadata": {
        "id": "80W0VDVejCds"
      },
      "id": "80W0VDVejCds"
    },
    {
      "cell_type": "markdown",
      "id": "83409f0c-726a-4871-99e8-200b40843a11",
      "metadata": {
        "id": "83409f0c-726a-4871-99e8-200b40843a11"
      },
      "source": [
        "#### 1- Amazon: Given two arrays, write a function to get the intersection of the two. For example, if A = [1, 2, 3, 4, 5], and B = [0, 1, 3, 7] then you should return [1, 3]."
      ]
    },
    {
      "cell_type": "code",
      "execution_count": null,
      "id": "f4d3c129-d048-4f23-936a-71ab624532a2",
      "metadata": {
        "id": "f4d3c129-d048-4f23-936a-71ab624532a2",
        "outputId": "05f1393c-fdda-4d93-d266-0f730954a4fa"
      },
      "outputs": [
        {
          "data": {
            "text/plain": [
              "[1, 3]"
            ]
          },
          "execution_count": 2,
          "metadata": {},
          "output_type": "execute_result"
        }
      ],
      "source": [
        "D = {}\n",
        "L = []\n",
        "for a in [1,2,3,4,5]:\n",
        "    D[a]=a\n",
        "for b in [0,1,3,7]:\n",
        "    if b in D.keys(): L.append(b)\n",
        "L"
      ]
    },
    {
      "cell_type": "code",
      "execution_count": null,
      "id": "7d67dc6c-fb3e-4785-bdd4-23712df43dac",
      "metadata": {
        "id": "7d67dc6c-fb3e-4785-bdd4-23712df43dac",
        "outputId": "d6ee0a2a-c151-4885-a88b-712bb1f44d71"
      },
      "outputs": [
        {
          "data": {
            "text/plain": [
              "{1, 3}"
            ]
          },
          "execution_count": 5,
          "metadata": {},
          "output_type": "execute_result"
        }
      ],
      "source": [
        "sA = set([1,2,3,4,5])\n",
        "sB = set([0,1,3,7])\n",
        "sA.intersection(sB)"
      ]
    },
    {
      "cell_type": "markdown",
      "id": "ed9e3aae-a347-4b7b-ac2e-edd178fe3503",
      "metadata": {
        "id": "ed9e3aae-a347-4b7b-ac2e-edd178fe3503"
      },
      "source": [
        "#### 2- D.E. Shaw: Given an integer array, return the maximum product of any three numbers in the array. For example, for A = [1, 3, 4, 5], you should return 60, while for B = [-2, -4, 5, 3] you should return 40."
      ]
    },
    {
      "cell_type": "code",
      "execution_count": null,
      "id": "359c752f-e844-428b-8f81-e4a2e7b96ce6",
      "metadata": {
        "id": "359c752f-e844-428b-8f81-e4a2e7b96ce6",
        "outputId": "cd746dca-c5b7-49e8-da7b-09a7868f1989"
      },
      "outputs": [
        {
          "data": {
            "text/plain": [
              "60"
            ]
          },
          "execution_count": 10,
          "metadata": {},
          "output_type": "execute_result"
        }
      ],
      "source": [
        "def prodmax(A):\n",
        "    A = sorted(A)\n",
        "    m_nve = A[0]*A[1]*A[-1]\n",
        "    m_pve = A[-1]*A[-2]*A[-3]\n",
        "    return max([m_nve,m_pve])\n",
        "prodmax([1, 3, 4, 5])"
      ]
    },
    {
      "cell_type": "markdown",
      "id": "639ba851-2325-48f7-ab36-4042cbfcf765",
      "metadata": {
        "id": "639ba851-2325-48f7-ab36-4042cbfcf765"
      },
      "source": [
        "#### 3- Facebook: Given a list of coordinates, write a function to find the k closest points (measured by Euclidean distance) to the origin. For example, if k = 3, and the points are: [[2, -1], [3, 2], [4, 1], [-1, -1], [-2, 2]], then return [[-1, -1], [2, -1], [-2, 2]]."
      ]
    },
    {
      "cell_type": "code",
      "execution_count": null,
      "id": "0ca35ade-6b72-4e87-9599-c0837de018fc",
      "metadata": {
        "id": "0ca35ade-6b72-4e87-9599-c0837de018fc",
        "outputId": "c4941ae0-eb0a-42e3-eb1a-27b36b24af69"
      },
      "outputs": [
        {
          "data": {
            "text/plain": [
              "[[-1, -1], [2, -1], [-2, 2]]"
            ]
          },
          "execution_count": 15,
          "metadata": {},
          "output_type": "execute_result"
        }
      ],
      "source": [
        "import numpy as np\n",
        "\n",
        "def DFO(p):\n",
        "    return np.sqrt(p[0]**2+p[1]**2)\n",
        "def kclosestp(L,k):\n",
        "    list_ =[]\n",
        "    for p in L:\n",
        "        list_.append((DFO(p),p))\n",
        "    return [y for x,y in sorted(list_)[:3]]\n",
        "kclosestp([[2, -1], [3, 2], [4, 1], [-1, -1], [-2, 2]], 3)\n",
        "\n",
        "\n",
        ""
      ]
    },
    {
      "cell_type": "markdown",
      "id": "33c693ab-a2d2-4751-a1b3-7a702fcfa84e",
      "metadata": {
        "id": "33c693ab-a2d2-4751-a1b3-7a702fcfa84e"
      },
      "source": [
        "#### 4- Google: Say you have an n-by-n matrix of elements that are sorted in ascending order both in the columns and rows of the matrix. Return the k-th smallest element of the matrix.\n",
        "For example, consider the matrix: [[1, 4, 7], [3,5,9], [6,8,11]] If k = 4, then return 5."
      ]
    },
    {
      "cell_type": "markdown",
      "id": "cadb756a-33bb-42e2-8ba3-1ec1ac31f03a",
      "metadata": {
        "id": "cadb756a-33bb-42e2-8ba3-1ec1ac31f03a"
      },
      "source": [
        "A: one solution would be to flatten the matrix to be 1d and use a sorting builtin function or a method to find the solution. but i created another solution."
      ]
    },
    {
      "cell_type": "code",
      "execution_count": null,
      "id": "574d7a56-882e-4efc-a60d-5188ae1f4cef",
      "metadata": {
        "id": "574d7a56-882e-4efc-a60d-5188ae1f4cef",
        "outputId": "bf86fc70-4720-4c7c-c189-635027e26e61"
      },
      "outputs": [
        {
          "data": {
            "text/plain": [
              "2"
            ]
          },
          "execution_count": 31,
          "metadata": {},
          "output_type": "execute_result"
        }
      ],
      "source": [
        "def catgeory(k,n):\n",
        "    if k>n**2 : return n**2-1\n",
        "    for c in range(1,k):\n",
        "        k-=c\n",
        "        if k<0: break\n",
        "    return c-1\n",
        "catgeory(4,3)"
      ]
    },
    {
      "cell_type": "code",
      "execution_count": null,
      "id": "0c3bc270-ad74-441a-b10b-0d8009715840",
      "metadata": {
        "id": "0c3bc270-ad74-441a-b10b-0d8009715840",
        "outputId": "55325fcc-69c0-4b9d-c843-9fa112b78624"
      },
      "outputs": [
        {
          "data": {
            "text/plain": [
              "[(2, 2)]"
            ]
          },
          "execution_count": 56,
          "metadata": {},
          "output_type": "execute_result"
        }
      ],
      "source": [
        "def ind_(c,n):\n",
        "    list_indecise = []\n",
        "    for i in range(c+1):\n",
        "        if i<n and c-i <n: list_indecise.append((i,c-i))\n",
        "    return  list_indecise\n",
        "ind_(4,3)"
      ]
    },
    {
      "cell_type": "code",
      "execution_count": null,
      "id": "fa9c63c9-3f9a-457b-bd37-36deffd82010",
      "metadata": {
        "id": "fa9c63c9-3f9a-457b-bd37-36deffd82010",
        "outputId": "b3ee5a54-9b19-4ea6-fb01-5a26f286d306"
      },
      "outputs": [
        {
          "data": {
            "text/plain": [
              "5"
            ]
          },
          "execution_count": 57,
          "metadata": {},
          "output_type": "execute_result"
        }
      ],
      "source": [
        "def min_(k,matrix):\n",
        "    n = len(matrix)\n",
        "    c = catgeory(k,n)\n",
        "    index_list = ind_(c,n)\n",
        "    min_ = []\n",
        "    for tuple_ in index_list:\n",
        "        min_.append(matrix[tuple_[0]][tuple_[1]])\n",
        "    return min(min_)\n",
        "\n",
        "A = [[1, 4, 7], [3,5,9], [6,8,11]]\n",
        "min_(4, A)"
      ]
    },
    {
      "cell_type": "markdown",
      "source": [
        "#### 5 - Akuna Capital: Given an integer array, find the sum of the largest contiguous subarray within the array. For example, if the input is [-1, -3, 5, -4, 3, -6, 9, 2], then return 11 (because of [9, 2]). Note that if all the elements are negative, you should return 0."
      ],
      "metadata": {
        "id": "rWHk9nkrjlY4"
      },
      "id": "rWHk9nkrjlY4"
    },
    {
      "cell_type": "code",
      "source": [
        "A = [1,2,3]\n",
        "A[1:]"
      ],
      "metadata": {
        "colab": {
          "base_uri": "https://localhost:8080/"
        },
        "id": "ReMD_8I8k18c",
        "outputId": "ec69c570-e2cb-42d6-e659-6584520f7eef"
      },
      "id": "ReMD_8I8k18c",
      "execution_count": 8,
      "outputs": [
        {
          "output_type": "execute_result",
          "data": {
            "text/plain": [
              "[2, 3]"
            ]
          },
          "metadata": {},
          "execution_count": 8
        }
      ]
    },
    {
      "cell_type": "code",
      "source": [
        "#soln1:itertion\n",
        "def largest_cont_subarray(arr):\n",
        "  largest_subarray = []\n",
        "  largest = 0\n",
        "  for i in range(len(arr)):\n",
        "    for j in range(i+1, len(arr)):\n",
        "      sub_array = arr[i:j+1]\n",
        "      if sum(sub_array)>largest:\n",
        "        largest_subarray = sub_array\n",
        "        largest = sum(sub_array)\n",
        "  return f'largest sum ={largest}, for subarray = {largest_subarray}'\n"
      ],
      "metadata": {
        "id": "NVaod_SnjoYx"
      },
      "id": "NVaod_SnjoYx",
      "execution_count": 9,
      "outputs": []
    },
    {
      "cell_type": "code",
      "source": [
        "largest_cont_subarray([-1, -3, 5, -4, 3, -6, 9, 2])"
      ],
      "metadata": {
        "colab": {
          "base_uri": "https://localhost:8080/",
          "height": 36
        },
        "id": "fYrq7uEQmCDK",
        "outputId": "6bdad966-f2ab-418d-f376-8faaed7ccf5e"
      },
      "id": "fYrq7uEQmCDK",
      "execution_count": 10,
      "outputs": [
        {
          "output_type": "execute_result",
          "data": {
            "text/plain": [
              "'largest sum =11, for subarray = [9, 2]'"
            ],
            "application/vnd.google.colaboratory.intrinsic+json": {
              "type": "string"
            }
          },
          "metadata": {},
          "execution_count": 10
        }
      ]
    },
    {
      "cell_type": "markdown",
      "id": "898b140b-729e-4a1f-8705-c35969d0fc80",
      "metadata": {
        "id": "898b140b-729e-4a1f-8705-c35969d0fc80"
      },
      "source": [
        "# Medium"
      ]
    },
    {
      "cell_type": "markdown",
      "id": "9b78c047-9ef2-4d89-85e4-0139446c58a9",
      "metadata": {
        "id": "9b78c047-9ef2-4d89-85e4-0139446c58a9"
      },
      "source": [
        "#### 1- Starbucks - Buy or Sell (1): Given a list of stock prices in ascending order by datetime, write a function that outputs the max profit by buying and selling at a specific interval. For example, if you give the following input: stock_prices = [10,5,20,32,25,12] your output should be: get_max_profit(stock_prices) -> 27."
      ]
    },
    {
      "cell_type": "code",
      "execution_count": null,
      "id": "d10ddb69-f2d2-4ce5-806f-698973751679",
      "metadata": {
        "id": "d10ddb69-f2d2-4ce5-806f-698973751679",
        "outputId": "602632f8-6d7c-4b88-d9d8-236f57b46c92"
      },
      "outputs": [
        {
          "name": "stdout",
          "output_type": "stream",
          "text": [
            "max profist is 27, for buying in day 1 and selling in day 3\n"
          ]
        }
      ],
      "source": [
        "# I made a small change because I thought it would be more interesting\n",
        "def get_max_profit(stock_prices):\n",
        "    profit_lists = []\n",
        "    for buying_day in range(len(stock_prices)):\n",
        "        for selling_day in range(buying_day +1, len(stock_prices)):\n",
        "            profit_lists.append((stock_prices[selling_day] - stock_prices[buying_day], buying_day, selling_day))\n",
        "    profit_lists.sort(reverse = True)\n",
        "    return  profit_lists[0]\n",
        "z = get_max_profit([10,5,20,32,25,12])\n",
        "print(\"max profist is {0}, for buying in day {1} and selling in day {2}.\".format(z[0],z[1],z[2]))"
      ]
    },
    {
      "cell_type": "markdown",
      "source": [
        "#### 2- Starbucks - Buy or Sell (2): Making it harder, given a list of stock prices and date times in ascending order by datetime, write a function that outputs the profit and start and end dates to buy and sell for max profit. For example, if your inputs are: stock_prices = [10,5,20,32,25,12] and dts = [‘2019-01-01’, ‘2019-01-02’, ‘2019-01-03’, ‘2019-01-04’, ‘2019-01-05’, ‘2019-01-06’], the output would be: get_profit_dates(stock_prices, dts) -> (27, ‘2019-01-02’, ‘2019-01-04’)."
      ],
      "metadata": {
        "id": "vEAau9n4mvhq"
      },
      "id": "vEAau9n4mvhq"
    },
    {
      "cell_type": "code",
      "execution_count": null,
      "id": "defaaec8-7e8f-4bb9-aeaf-a23693e3bd0c",
      "metadata": {
        "id": "defaaec8-7e8f-4bb9-aeaf-a23693e3bd0c"
      },
      "outputs": [],
      "source": []
    },
    {
      "cell_type": "markdown",
      "source": [
        "#### 3- Snapchat - Dictionaries and List Comprehension: Write a function that takes in a list of dictionaries with a key and list of integers and returns a dictionary with the standard deviation of each list. Note: this should be done without using the numpy built in functions.\n",
        "\n",
        "Standard Deviation $\\sigma  =  \\sqrt(1/n (Σ_{i=1}^{n} (x_i -\\mu)^2))$\n",
        "\n",
        "For example, for the input [{‘key’: ‘list1’, ‘values’: [4,5,2,3,4,5,2,3]}, {‘key’: ‘list2’, ‘values’: [1,1,34,12,40,3,9,7]}] you should get the output {‘list1’: 1.12, ‘list2’: 14.19}.\n"
      ],
      "metadata": {
        "id": "LnjhO7cBqwEE"
      },
      "id": "LnjhO7cBqwEE"
    },
    {
      "cell_type": "code",
      "source": [
        "import math\n",
        "def std_fn(list_values):\n",
        "  n = len(list_values)\n",
        "  mean = sum(list_values)/n\n",
        "  return math.sqrt( sum([(xi - mean)**2 for xi in list_values])/n)\n"
      ],
      "metadata": {
        "id": "Wg1xOGHAtCzd"
      },
      "id": "Wg1xOGHAtCzd",
      "execution_count": 29,
      "outputs": []
    },
    {
      "cell_type": "code",
      "source": [
        "def get_dic_list(listofdic):\n",
        "  dic_list = {}\n",
        "  for dic_ in listofdic:\n",
        "    list_name, list_values = dic_['key'], dic_['values']\n",
        "    dic_list[list_name] = std_fn(list_values)\n",
        "  return dic_list\n"
      ],
      "metadata": {
        "id": "9c05fvC6rlF9"
      },
      "id": "9c05fvC6rlF9",
      "execution_count": 30,
      "outputs": []
    },
    {
      "cell_type": "code",
      "source": [
        "get_dic_list([{'key': 'list1', 'values': [4,5,2,3,4,5,2,3]}, {'key': 'list2', 'values': [1,1,34,12,40,3,9,7]}])"
      ],
      "metadata": {
        "colab": {
          "base_uri": "https://localhost:8080/"
        },
        "id": "kE0AeOMpt4hj",
        "outputId": "71166f6f-31da-4f27-fb89-df80f63c8f8c"
      },
      "id": "kE0AeOMpt4hj",
      "execution_count": 31,
      "outputs": [
        {
          "output_type": "execute_result",
          "data": {
            "text/plain": [
              "{'list1': 1.118033988749895, 'list2': 14.185710239533304}"
            ]
          },
          "metadata": {},
          "execution_count": 31
        }
      ]
    },
    {
      "cell_type": "markdown",
      "source": [
        "#### 4- Fitbit - Moving window average: Given a list of numbers and window_size (int), calculate the moving window average. For example, with the input [1,2,3,4,5,6] and a window size of 3, your output should be [1, 1.5, 2, 3, 4, 5]. With the same input and a window size of 4, the output would change to [1, 1.5, 2, 2.5, 3.5, 4.5]."
      ],
      "metadata": {
        "id": "17OMOI1DutLf"
      },
      "id": "17OMOI1DutLf"
    },
    {
      "cell_type": "code",
      "source": [
        "l = [1,2,3,4,5,6]\n",
        "w=3\n",
        "l[6-w:6]"
      ],
      "metadata": {
        "colab": {
          "base_uri": "https://localhost:8080/"
        },
        "id": "9LZBOtwI0PKg",
        "outputId": "057701bc-6e32-4ebd-b7c4-f752fc8384ea"
      },
      "id": "9LZBOtwI0PKg",
      "execution_count": 35,
      "outputs": [
        {
          "output_type": "execute_result",
          "data": {
            "text/plain": [
              "[4, 5, 6]"
            ]
          },
          "metadata": {},
          "execution_count": 35
        }
      ]
    },
    {
      "cell_type": "code",
      "source": [
        "def list_avg(list_numbers, window_size):\n",
        "  list_avg = []\n",
        "  for i in range(len(list_numbers)):\n",
        "    if i < (window_size-1):\n",
        "      avg = sum(list_numbers[:i+1] ) / len(list_numbers[:i+1])\n",
        "      list_avg.append(avg)\n",
        "    else:\n",
        "      avg = sum(list_numbers[i+1-window_size:i+1] ) / len(list_numbers[i+1-window_size:i+1])\n",
        "      list_avg.append(avg)\n",
        "  return list_avg"
      ],
      "metadata": {
        "id": "Mq01IuZLuytG"
      },
      "id": "Mq01IuZLuytG",
      "execution_count": 38,
      "outputs": []
    },
    {
      "cell_type": "code",
      "source": [
        "list_avg([1,2,3,4,5,6], 3)"
      ],
      "metadata": {
        "colab": {
          "base_uri": "https://localhost:8080/"
        },
        "id": "hexENmr_074D",
        "outputId": "94e75ea3-33c8-4b2f-a2b0-c86e7a0e2c76"
      },
      "id": "hexENmr_074D",
      "execution_count": 39,
      "outputs": [
        {
          "output_type": "execute_result",
          "data": {
            "text/plain": [
              "[1.0, 1.5, 2.0, 3.0, 4.0, 5.0]"
            ]
          },
          "metadata": {},
          "execution_count": 39
        }
      ]
    },
    {
      "cell_type": "code",
      "source": [
        "list_avg([1,2,3,4,5,6], 4)"
      ],
      "metadata": {
        "colab": {
          "base_uri": "https://localhost:8080/"
        },
        "id": "qfwqEOHq1b6G",
        "outputId": "12ccc5be-cffa-4c5d-90a9-865ace540145"
      },
      "id": "qfwqEOHq1b6G",
      "execution_count": 40,
      "outputs": [
        {
          "output_type": "execute_result",
          "data": {
            "text/plain": [
              "[1.0, 1.5, 2.0, 2.5, 3.5, 4.5]"
            ]
          },
          "metadata": {},
          "execution_count": 40
        }
      ]
    },
    {
      "cell_type": "markdown",
      "source": [
        "#### 5 -  Simulate a 5-sided die: You have a function rand7() that returns a list of random numbers between 1 - 7 which have have a uniform distribution (each number has an equal probability). Use it to write a function rand5() that generates a random integer from 1 to 5. The tricky part: like rand7() your function rand5() has to return each integer with equal probability! What’s the best worst-case time O(??) that you can achieve?"
      ],
      "metadata": {
        "id": "abAWIAcv1n9e"
      },
      "id": "abAWIAcv1n9e"
    },
    {
      "cell_type": "code",
      "source": [],
      "metadata": {
        "id": "qNBL9JqS1lBc"
      },
      "id": "qNBL9JqS1lBc",
      "execution_count": null,
      "outputs": []
    },
    {
      "cell_type": "markdown",
      "source": [
        "#### 6 - Simulate a 7-sided die: Now lets reverse the question. You have a function rand5() that generates a random integer from 1 to 5. Use it to write a function rand7() that generates a random integer from 1 to 7. The function rand5() returns each integer with equal probability. Also your function rand7() has to return each integer with equal probability! What’s here the best worst-case time O(??) that you can achieve?"
      ],
      "metadata": {
        "id": "usrxzgGa19Qh"
      },
      "id": "usrxzgGa19Qh"
    },
    {
      "cell_type": "code",
      "source": [],
      "metadata": {
        "id": "zTAAFPMV2CEV"
      },
      "id": "zTAAFPMV2CEV",
      "execution_count": null,
      "outputs": []
    },
    {
      "cell_type": "markdown",
      "source": [
        "#### 7- Google: Given an array of positive integers, a peak element is greater than its neighbors. Write a function to find the index of any peak elements. For example, for [3, 5, 2, 4, 1], you should return either 1 or 3 because the values at those indexes, 5 and 4, are both peak elements."
      ],
      "metadata": {
        "id": "bPr3p0782Cag"
      },
      "id": "bPr3p0782Cag"
    },
    {
      "cell_type": "code",
      "source": [
        "#stupid soln\n",
        "def get_peak(list_):\n",
        "  peak_indx = []\n",
        "  for i in range(len(list_)):\n",
        "    if i == 0:\n",
        "      if list_[0]>list_[1]: peak_indx.append(0)\n",
        "    elif i == len(list_) -1:\n",
        "      if list_[len(list_) -1]>list_[len(list_) -2]: peak_indx.append(len(list_) -1)\n",
        "    else:\n",
        "      if list_[i]> list_[i-1] and list_[i]> list_[i+1]:\n",
        "         peak_indx.append(i)\n",
        "  return peak_indx"
      ],
      "metadata": {
        "id": "i42V7yzp2LbE"
      },
      "id": "i42V7yzp2LbE",
      "execution_count": 41,
      "outputs": []
    },
    {
      "cell_type": "code",
      "source": [
        "get_peak([3, 5, 2, 4, 1])"
      ],
      "metadata": {
        "colab": {
          "base_uri": "https://localhost:8080/"
        },
        "id": "xCaQLdk247HB",
        "outputId": "14deb065-a35a-4bb5-893b-e5d7b5b3a7d0"
      },
      "id": "xCaQLdk247HB",
      "execution_count": 42,
      "outputs": [
        {
          "output_type": "execute_result",
          "data": {
            "text/plain": [
              "[1, 3]"
            ]
          },
          "metadata": {},
          "execution_count": 42
        }
      ]
    },
    {
      "cell_type": "markdown",
      "source": [
        "#### 8 - AQR: Given two lists X and Y, return their correlation."
      ],
      "metadata": {
        "id": "dfaliUq95J1V"
      },
      "id": "dfaliUq95J1V"
    },
    {
      "cell_type": "code",
      "source": [],
      "metadata": {
        "id": "OKN1K9vk5Nox"
      },
      "id": "OKN1K9vk5Nox",
      "execution_count": null,
      "outputs": []
    },
    {
      "cell_type": "markdown",
      "source": [
        "#### 9- D.E. Shaw: Given a target number, generate a random sample of n integers that sum to that target that also are within σ standard deviations of the mean."
      ],
      "metadata": {
        "id": "wvTMQkNT5N8i"
      },
      "id": "wvTMQkNT5N8i"
    },
    {
      "cell_type": "code",
      "source": [],
      "metadata": {
        "id": "h-xiVlXi5UwQ"
      },
      "id": "h-xiVlXi5UwQ",
      "execution_count": null,
      "outputs": []
    },
    {
      "cell_type": "markdown",
      "source": [
        "#### 10 - LinkedIn: Given two strings A and B, write a function to return a list of all the start indices within A where the substring of A is an anagram of B. For example, if A = “abcdcbac” and B = “abc”, then you want to return [0, 4, 5] since those are the starting indices of substrings of A that are anagrams of B."
      ],
      "metadata": {
        "id": "yoONDrUj7Bwv"
      },
      "id": "yoONDrUj7Bwv"
    },
    {
      "cell_type": "code",
      "source": [],
      "metadata": {
        "id": "_GTyn7RX7bS5"
      },
      "id": "_GTyn7RX7bS5",
      "execution_count": null,
      "outputs": []
    },
    {
      "cell_type": "markdown",
      "source": [
        "# Hard"
      ],
      "metadata": {
        "id": "EpZVMIj9jIeR"
      },
      "id": "EpZVMIj9jIeR"
    },
    {
      "cell_type": "code",
      "source": [],
      "metadata": {
        "id": "zEnIn1kOjJkt"
      },
      "id": "zEnIn1kOjJkt",
      "execution_count": null,
      "outputs": []
    }
  ],
  "metadata": {
    "kernelspec": {
      "display_name": "DS_toolkit",
      "language": "python",
      "name": "ds_toolkit"
    },
    "language_info": {
      "codemirror_mode": {
        "name": "ipython",
        "version": 3
      },
      "file_extension": ".py",
      "mimetype": "text/x-python",
      "name": "python",
      "nbconvert_exporter": "python",
      "pygments_lexer": "ipython3",
      "version": "3.10.4"
    },
    "colab": {
      "provenance": [],
      "include_colab_link": true
    }
  },
  "nbformat": 4,
  "nbformat_minor": 5
}