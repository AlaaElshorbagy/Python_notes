{
  "nbformat": 4,
  "nbformat_minor": 0,
  "metadata": {
    "colab": {
      "provenance": [],
      "authorship_tag": "ABX9TyM9c0IGlAJPYxvExLSv/8mQ",
      "include_colab_link": true
    },
    "kernelspec": {
      "name": "python3",
      "display_name": "Python 3"
    },
    "language_info": {
      "name": "python"
    }
  },
  "cells": [
    {
      "cell_type": "markdown",
      "metadata": {
        "id": "view-in-github",
        "colab_type": "text"
      },
      "source": [
        "<a href=\"https://colab.research.google.com/github/AlaaElshorbagy/Python_notes/blob/main/Mynotes/Quicksort_Recursion.ipynb\" target=\"_parent\"><img src=\"https://colab.research.google.com/assets/colab-badge.svg\" alt=\"Open In Colab\"/></a>"
      ]
    },
    {
      "cell_type": "markdown",
      "source": [
        "Worst case O(n^2), Best case O(n log n)"
      ],
      "metadata": {
        "id": "ZpvjxubXeiR0"
      }
    },
    {
      "cell_type": "code",
      "execution_count": 14,
      "metadata": {
        "id": "8EC-fw17eHo0"
      },
      "outputs": [],
      "source": [
        "def QuickSort(seq):\n",
        "  if len(seq)<=1:\n",
        "      return seq\n",
        "  else:\n",
        "    pivote = seq.pop(-1)\n",
        "    left_seq = [ i  for i in seq if i <= pivote]\n",
        "    right_seq = [ i  for i in seq if i >= pivote]\n",
        "    return QuickSort(left_seq) +[pivote] + QuickSort(right_seq)"
      ]
    },
    {
      "cell_type": "code",
      "source": [
        "QuickSort([2,5,7,3,4,10])"
      ],
      "metadata": {
        "colab": {
          "base_uri": "https://localhost:8080/"
        },
        "id": "xpL-kz1Mfv0r",
        "outputId": "c433b1ca-dd89-4384-ad44-15c715bcd281"
      },
      "execution_count": 15,
      "outputs": [
        {
          "output_type": "execute_result",
          "data": {
            "text/plain": [
              "[2, 3, 4, 5, 7, 10]"
            ]
          },
          "metadata": {},
          "execution_count": 15
        }
      ]
    },
    {
      "cell_type": "code",
      "source": [],
      "metadata": {
        "id": "jIoWjYbNgPUA"
      },
      "execution_count": null,
      "outputs": []
    }
  ]
}